{
 "cells": [
  {
   "cell_type": "code",
   "execution_count": 188,
   "id": "0cbd6dbe",
   "metadata": {},
   "outputs": [],
   "source": [
    "import numpy as np\n",
    "import matplotlib.pyplot as plt"
   ]
  },
  {
   "cell_type": "code",
   "execution_count": 208,
   "id": "2a0a6fce",
   "metadata": {},
   "outputs": [],
   "source": [
    "def costFun(theta, X_train, Y_train):\n",
    "    m = X_train.shape[0]\n",
    "    cost =0\n",
    "    X_train = X_train + 1\n",
    "    for i in range(m):\n",
    "        y = np.matmult(theta,X_train) \n",
    "        cost = cost + (Y_train[i]-y)**2\n",
    "    J = (1/(2*m))*cost\n",
    "    return J ## The Cost Function Value as told in Class."
   ]
  },
  {
   "cell_type": "code",
   "execution_count": 209,
   "id": "c596c32a",
   "metadata": {},
   "outputs": [],
   "source": [
    "def diffCostFun(theta, X_train, Y_train):\n",
    "    Z = X_train.transpose()\n",
    "    gradient_of_J = np.matmul(Z,X)*theta - Z*Y_train\n",
    "    return gradient_of_J ## The gradient Vector as discussed in class\n"
   ]
  },
  {
   "cell_type": "code",
   "execution_count": 210,
   "id": "65eadc56",
   "metadata": {},
   "outputs": [],
   "source": [
    "def fitGD(X_train, Y_train, alpha, lamda, Type_of_Regularization, Iterations):\n",
    "    m = X_train.shape[0]\n",
    "    test = np.zeros(Iterations)\n",
    "    theta = np.ones(m)\n",
    "    \n",
    "    for i in range (Iterations):\n",
    "        deriv_J = diffCostFun(theta, X_train, Y_train)\n",
    "        theta = theta - alpha*deriv_J \n",
    "        J= costFun(theta, X_train, Y_train)\n",
    "        test[i] = J\n",
    "        \n",
    "    plt.plot(test)\n",
    "    J = costFun(theta, X_train, Y_train)\n",
    "    regu = 0\n",
    "    \n",
    "    if(Type_of_Regularization==1):\n",
    "        for i in range (m):\n",
    "            regu = regu + theta[i]\n",
    "        \n",
    "    if(Type_of_Regularization==2):\n",
    "        J = costFun(theta, X_train, Y_train)\n",
    "        regu = 0\n",
    "        for i in range (m):\n",
    "            regu = regu + theta[i]**2\n",
    "        regu = regu/2\n",
    "        \n",
    "    regu = regu*lamda/m\n",
    "    J = J + regu\n",
    "    \n",
    "     #This Function performs batch Gradient Descent for our training dataset with the\n",
    "     #given parameters as input. It should return the trained parameters and should also plot\n",
    "     #the graph of J(theta) vs iteration number for each time it runs using Batch Gradient\n",
    "     #Descent. Use vectorized implementation.\n",
    "\n",
    "    return theta\n"
   ]
  },
  {
   "cell_type": "code",
   "execution_count": 211,
   "id": "69763ae9",
   "metadata": {},
   "outputs": [],
   "source": [
    "def fitNormal(X_train, Y_train):\n",
    "    Z = X_train.transpose()\n",
    "    theta = (Z*Y_train)/(Z*X_train)\n",
    "        ##This Function learns the parameter theta using the Normal Equations method.\n",
    "    return theta"
   ]
  },
  {
   "cell_type": "code",
   "execution_count": 212,
   "id": "bf29f1f9",
   "metadata": {},
   "outputs": [],
   "source": [
    "def locallyWeighted(X_train, Y_train, x, tau):\n",
    "    m = X_train.shape[0]\n",
    "    W=np.zeros(X_train.shape[0])\n",
    "    for i in range(m):\n",
    "        W[i] = np.exp(-(X_train[i]-x)**2/2*tau**2)\n",
    "    \n",
    "    Z = X_train.transpose()\n",
    "    theta = (1/(Z*W*X_train))*(Z*W*Y_train)\n",
    "    \n",
    "    y = theta*x\n",
    "        #returns prediction of y for given x through locally weighted Regression\n",
    "    return y\n"
   ]
  },
  {
   "cell_type": "code",
   "execution_count": 213,
   "id": "67fe951b",
   "metadata": {},
   "outputs": [],
   "source": [
    "def error_train(Y_train, Y_pred_train):\n",
    "    m = Y_pred_train.shape[0]\n",
    "    error = 0\n",
    "    for i in range(m):\n",
    "        error = error + (Y_train[i]-Y_pred_train[i]**2)/(2*m)\n",
    "    return error\n",
    "\n",
    "def error_test(Y_train, Y_pred_test):\n",
    "    m = Y_pred_test.shape[0]\n",
    "    error = 0\n",
    "    for i in range(m):\n",
    "        error = error + (Y_test[i]-Y_pred_test[i]**2)/(2*m)\n",
    "    return error"
   ]
  },
  {
   "cell_type": "code",
   "execution_count": 214,
   "id": "cb7cfa6b",
   "metadata": {},
   "outputs": [
    {
     "data": {
      "text/plain": [
       "array([ 3.5,  5.7,  6.2,  8.3, 10.5, 12.5])"
      ]
     },
     "execution_count": 214,
     "metadata": {},
     "output_type": "execute_result"
    }
   ],
   "source": [
    "X_train = np.array([2.5, 4.7 , 5.2, 7.3, 9.5, 11.5])\n",
    "Y_train = np.array([5.21, 7.70, 8.30, 11, 14.5, 15]).T\n",
    "X_train +1\n"
   ]
  },
  {
   "cell_type": "code",
   "execution_count": 215,
   "id": "4e6dabd6",
   "metadata": {},
   "outputs": [
    {
     "data": {
      "image/png": "[encoded data removed]",
      "text/plain": [
       "<Figure size 432x288 with 1 Axes>"
      ]
     },
     "metadata": {
      "needs_background": "light"
     },
     "output_type": "display_data"
    }
   ],
   "source": [
    "plt.scatter(X_train,Y_train)\n",
    "plt.show()"
   ]
  },
  {
   "cell_type": "code",
   "execution_count": 207,
   "id": "c23a035a",
   "metadata": {},
   "outputs": [
    {
     "name": "stderr",
     "output_type": "stream",
     "text": [
      "C:\\Users\\asjasdraza13\\AppData\\Local\\Temp\\ipykernel_22812\\2851576608.py:7: RuntimeWarning: overflow encountered in double_scalars\n",
      "  cost = cost + (Y_train[i]-y)**2\n",
      "C:\\Users\\asjasdraza13\\AppData\\Local\\Temp\\ipykernel_22812\\122131775.py:3: RuntimeWarning: overflow encountered in multiply\n",
      "  gradient_of_J = (1/m)*np.sum(theta*(np.dot(theta.T,X_train)-Y_train))\n"
     ]
    },
    {
     "data": {
      "text/plain": [
       "array([-inf, -inf, -inf, -inf, -inf, -inf])"
      ]
     },
     "execution_count": 207,
     "metadata": {},
     "output_type": "execute_result"
    },
    {
     "data": {
      "image/png": "[encoded data removed]",
      "text/plain": [
       "<Figure size 432x288 with 1 Axes>"
      ]
     },
     "metadata": {
      "needs_background": "light"
     },
     "output_type": "display_data"
    }
   ],
   "source": [
    "theta = fitGD(X_train, Y_train, 0.1, 0.1, 0, 100)\n",
    "theta"
   ]
  },
  {
   "cell_type": "code",
   "execution_count": 216,
   "id": "345d5ca2",
   "metadata": {},
   "outputs": [
    {
     "data": {
      "text/plain": [
       "array([2.084     , 1.63829787, 1.59615385, 1.50684932, 1.52631579,\n",
       "       1.30434783])"
      ]
     },
     "execution_count": 216,
     "metadata": {},
     "output_type": "execute_result"
    }
   ],
   "source": [
    "theta = fitNormal(X_train, Y_train)\n",
    "theta"
   ]
  },
  {
   "cell_type": "code",
   "execution_count": 217,
   "id": "a7073bd3",
   "metadata": {},
   "outputs": [
    {
     "data": {
      "text/plain": [
       "array([10.42      ,  8.19148936,  7.98076923,  7.53424658,  7.63157895,\n",
       "        6.52173913])"
      ]
     },
     "execution_count": 217,
     "metadata": {},
     "output_type": "execute_result"
    }
   ],
   "source": [
    "y = locallyWeighted(X_train, Y_train, 5, 0.1)\n",
    "y"
   ]
  },
  {
   "cell_type": "code",
   "execution_count": null,
   "id": "b9c3e69c",
   "metadata": {},
   "outputs": [],
   "source": []
  }
 ],
 "metadata": {
  "kernelspec": {
   "display_name": "Python 3 (ipykernel)",
   "language": "python",
   "name": "python3"
  },
  "language_info": {
   "codemirror_mode": {
    "name": "ipython",
    "version": 3
   },
   "file_extension": ".py",
   "mimetype": "text/x-python",
   "name": "python",
   "nbconvert_exporter": "python",
   "pygments_lexer": "ipython3",
   "version": "3.9.12"
  }
 },
 "nbformat": 4,
 "nbformat_minor": 5
}
